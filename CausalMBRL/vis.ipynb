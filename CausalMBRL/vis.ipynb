{
 "cells": [
  {
   "cell_type": "code",
   "execution_count": 1,
   "metadata": {},
   "outputs": [],
   "source": [
    "\n",
    "import gym\n",
    "import matplotlib\n",
    "%matplotlib inline\n",
    "from matplotlib import pyplot as plt\n",
    "from data_gen.env import RandomAgent\n",
    "import numpy as np"
   ]
  },
  {
   "cell_type": "code",
   "execution_count": 2,
   "metadata": {},
   "outputs": [
    {
     "name": "stderr",
     "output_type": "stream",
     "text": [
      "/home/mila/j/jithendaraa.subramanian/causal/lib/python3.7/site-packages/gym/logger.py:30: UserWarning: \u001b[33mWARN: Box bound precision lowered by casting to float32\u001b[0m\n",
      "  warnings.warn(colorize('%s: %s'%('WARN', msg % args), 'yellow'))\n"
     ]
    }
   ],
   "source": [
    "env = gym.make('LinGaussColorCubesRL-6-6-Static-10-v0')\n",
    "agent = RandomAgent(env.action_space)"
   ]
  },
  {
   "cell_type": "code",
   "execution_count": 3,
   "metadata": {
    "scrolled": false
   },
   "outputs": [
    {
     "name": "stdout",
     "output_type": "stream",
     "text": [
      "OrderedDict([('nodes', array([0, 5, 1, 3])), ('values', array([ 5.9564795,  2.2066317, -5.275814 ,  5.093518 ,  4.386867 ,\n",
      "        3.2919748], dtype=float32))])\n",
      "\n",
      "[(222.43139281868935, 0.0, 0.0, 1), (162.66819208860397, 0.0, 0.0, 1), (119.56260781709139, 0.0, 0.0, 1), (208.67793962359428, 0.0, 0.0, 1), (216.57140538326314, 0.0, 0.0, 1), (179.96584810316563, 0.0, 0.0, 1)]\n",
      "\n",
      "OrderedDict([(0, Object(pos=Coord(x=0, y=0), color=(222.43139281868935, 0.0, 0.0, 1))), (1, Object(pos=Coord(x=0, y=4), color=(162.66819208860397, 0.0, 0.0, 1))), (2, Object(pos=Coord(x=4, y=0), color=(119.56260781709139, 0.0, 0.0, 1))), (3, Object(pos=Coord(x=4, y=4), color=(208.67793962359428, 0.0, 0.0, 1))), (4, Object(pos=Coord(x=2, y=2), color=(216.57140538326314, 0.0, 0.0, 1))), (5, Object(pos=Coord(x=1, y=1), color=(179.96584810316563, 0.0, 0.0, 1)))])\n"
     ]
    }
   ],
   "source": [
    "_, _ = env.reset()\n",
    "action = agent.act()\n",
    "\n",
    "if 'nodes' in action.keys():\n",
    "    num_nodes_to_intervene = action['nodes']\n",
    "    nodes_to_intervene = np.random.choice(env.num_objects, num_nodes_to_intervene, replace=False)\n",
    "    action['nodes'] = nodes_to_intervene\n",
    "\n",
    "print(action)\n",
    "obs, _, _, _ = env.step(action)\n",
    "print(env.objects)\n"
   ]
  },
  {
   "cell_type": "code",
   "execution_count": 5,
   "metadata": {},
   "outputs": [],
   "source": [
    "plt.figure()\n",
    "plt.imshow(obs[1].T/255.)\n",
    "plt.colorbar()\n",
    "plt.show()\n",
    "plt.savefig('foo.png')\n"
   ]
  },
  {
   "cell_type": "code",
   "execution_count": 6,
   "metadata": {},
   "outputs": [
    {
     "data": {
      "text/plain": [
       "array([[ 0.        , -0.        ,  0.        , -0.        ,  0.73845438,\n",
       "         1.73148984],\n",
       "       [ 0.        , -0.        , -0.        ,  0.        , -0.        ,\n",
       "         0.        ],\n",
       "       [ 0.        , -0.        ,  0.        , -0.        ,  1.48449438,\n",
       "        -0.        ],\n",
       "       [-0.        , -0.        , -0.        ,  0.        , -0.        ,\n",
       "         0.        ],\n",
       "       [-0.        , -0.        ,  0.        , -0.        ,  0.        ,\n",
       "         1.9646892 ],\n",
       "       [-0.        ,  0.        ,  0.        , -0.        , -0.        ,\n",
       "         0.        ]])"
      ]
     },
     "execution_count": 6,
     "metadata": {},
     "output_type": "execute_result"
    }
   ],
   "source": [
    "env.W"
   ]
  },
  {
   "cell_type": "code",
   "execution_count": 13,
   "metadata": {},
   "outputs": [
    {
     "ename": "SyntaxError",
     "evalue": "unexpected EOF while parsing (<ipython-input-13-8aafb985b5ef>, line 12)",
     "output_type": "error",
     "traceback": [
      "\u001b[0;36m  File \u001b[0;32m\"<ipython-input-13-8aafb985b5ef>\"\u001b[0;36m, line \u001b[0;32m12\u001b[0m\n\u001b[0;31m    if i < obs_data:\u001b[0m\n\u001b[0m                    ^\u001b[0m\n\u001b[0;31mSyntaxError\u001b[0m\u001b[0;31m:\u001b[0m unexpected EOF while parsing\n"
     ]
    }
   ],
   "source": [
    "obs_data = 20\n",
    "num_samples = 100\n",
    "interv_sets = 10\n",
    "\n",
    "interv_data = num_samples - obs_data\n",
    "\n",
    "im_data = []\n",
    "interv_values = []\n",
    "interv_nodes = np.zeros((num_samples, env.num_objects))\n",
    "dags = []\n",
    "\n",
    "for i in range(num_samples):\n",
    "    if i < obs_data:\n",
    "        ob, _ = env.reset()\n",
    "        interv_details, state_obs, dag = obs\n",
    "    else:\n",
    "        \n",
    "\n",
    "    interv_nodes[i, interv_details[0]] = 1\n",
    "    interv_values.append(interv_details[1])\n",
    "    im_data.append(ob[1])\n",
    "    dags.append(dag)\n",
    "\n"
   ]
  },
  {
   "cell_type": "code",
   "execution_count": null,
   "metadata": {},
   "outputs": [],
   "source": []
  }
 ],
 "metadata": {
  "kernelspec": {
   "display_name": "Python 3.7.4 64-bit",
   "language": "python",
   "name": "python3"
  },
  "language_info": {
   "codemirror_mode": {
    "name": "ipython",
    "version": 3
   },
   "file_extension": ".py",
   "mimetype": "text/x-python",
   "name": "python",
   "nbconvert_exporter": "python",
   "pygments_lexer": "ipython3",
   "version": "3.7.4"
  },
  "vscode": {
   "interpreter": {
    "hash": "54af12b15bafbf4e1156c37e54b0b95b060510f762eeb5842db55713079f118a"
   }
  }
 },
 "nbformat": 4,
 "nbformat_minor": 4
}
