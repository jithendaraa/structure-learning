{
 "cells": [
  {
   "cell_type": "code",
   "execution_count": 8,
   "metadata": {},
   "outputs": [],
   "source": [
    "from argparse import Namespace\n",
    "import sys, pathlib, pdb, os\n",
    "from os.path import join\n",
    "\n",
    "sys.path.append('..')\n",
    "sys.path.append('../..')\n",
    "sys.path.append('../../CausalMBRL')\n",
    "sys.path.append('../../CausalMBRL/envs')\n",
    "\n",
    "from tqdm import tqdm\n",
    "import utils\n",
    "import ruamel.yaml as yaml\n",
    "\n",
    "from conv_decoder_bcd_utils import *\n",
    "import envs, wandb\n",
    "import jax\n",
    "from jax import numpy as jnp\n",
    "import numpy as onp\n",
    "import jax.random as rnd\n",
    "from jax import config, jit, lax, value_and_grad, vmap\n",
    "from jax.tree_util import tree_map, tree_multimap\n",
    "import haiku as hk\n",
    "from modules.GumbelSinkhorn import GumbelSinkhorn\n",
    "\n",
    "from loss_fns import *\n",
    "from tensorflow_probability.substrates.jax.distributions import (Horseshoe,\n",
    "                                                                 Normal)\n",
    "from conv_decoder_bcd_eval import *\n",
    "\n",
    "opt = Namespace(**{\n",
    "    'data_seed': 0,\n",
    "    'pts_per_interv': 20,\n",
    "    'n_interv_sets': 20,\n",
    "    'obs_data': 100,\n",
    "    'num_nodes': 5,\n",
    "    'exp_edges': 1.0,\n",
    "    'noise_sigma': 1.0,\n",
    "    'do_ev_noise': True,\n",
    "    'dataset': 'chemdata',\n",
    "    'sem_type': 'linear-gauss',\n",
    "    'generate': True\n",
    "})\n",
    "\n",
    "# ? Set seeds\n",
    "onp.random.seed(0)\n",
    "rng_key = rnd.PRNGKey(opt.data_seed)\n",
    "key = hk.PRNGSequence(42)\n",
    "\n",
    "opt.num_samples = int(opt.pts_per_interv * opt.n_interv_sets) + opt.obs_data\n",
    "n = opt.num_samples\n",
    "d = opt.num_nodes\n",
    "degree = opt.exp_edges\n",
    "l_dim = d * (d - 1) // 2\n",
    "ground_truth_sigmas = opt.noise_sigma * jnp.ones(opt.num_nodes)\n",
    "\n",
    "if opt.do_ev_noise: noise_dim = 1\n",
    "else:   noise_dim = d\n",
    "\n",
    "low = -8.\n",
    "high = 8.\n",
    "hard = True\n",
    "num_bethe_iters = 20\n",
    "proj_dims = (1, 50, 50)\n",
    "log_stds_max=10."
   ]
  },
  {
   "cell_type": "code",
   "execution_count": 9,
   "metadata": {},
   "outputs": [
    {
     "name": "stderr",
     "output_type": "stream",
     "text": [
      "\u001b[33mWARN: Box bound precision lowered by casting to float32\u001b[0m\n",
      "100%|██████████| 500/500 [00:03<00:00, 146.94it/s]\n"
     ]
    },
    {
     "name": "stdout",
     "output_type": "stream",
     "text": [
      "[[ 0.         -0.          0.         -0.          0.        ]\n",
      " [-0.         -0.         -0.          0.          0.        ]\n",
      " [-0.         -0.5281847  -0.         -0.          0.        ]\n",
      " [-0.89683342 -0.         -0.          0.         -0.        ]\n",
      " [ 0.         -1.41814358  0.         -0.         -0.        ]]\n",
      "\n"
     ]
    }
   ],
   "source": [
    "z, interv_nodes, interv_values, images, gt_W, gt_P, gt_L = generate_data(opt, low, high)"
   ]
  },
  {
   "cell_type": "code",
   "execution_count": 10,
   "metadata": {},
   "outputs": [
    {
     "data": {
      "text/plain": [
       "(500, 50, 50, 3)"
      ]
     },
     "execution_count": 10,
     "metadata": {},
     "output_type": "execute_result"
    }
   ],
   "source": [
    "images.shape"
   ]
  },
  {
   "cell_type": "code",
   "execution_count": 19,
   "metadata": {},
   "outputs": [
    {
     "data": {
      "image/png": "[encoded data removed]",
      "text/plain": [
       "<Figure size 640x480 with 1 Axes>"
      ]
     },
     "metadata": {},
     "output_type": "display_data"
    }
   ],
   "source": [
    "import matplotlib.pyplot as plt\n",
    "\n",
    "plt.imshow(images[101, :, :, 0]/255)\n",
    "plt.xticks([])\n",
    "plt.yticks([])\n",
    "plt.show()"
   ]
  },
  {
   "cell_type": "code",
   "execution_count": 20,
   "metadata": {},
   "outputs": [
    {
     "data": {
      "image/png": "[encoded data removed]",
      "text/plain": [
       "<Figure size 640x480 with 1 Axes>"
      ]
     },
     "metadata": {},
     "output_type": "display_data"
    }
   ],
   "source": [
    "plt.imshow(images[101, :, :]/255)\n",
    "plt.xticks([])\n",
    "plt.yticks([])\n",
    "plt.show()"
   ]
  },
  {
   "cell_type": "code",
   "execution_count": null,
   "metadata": {},
   "outputs": [],
   "source": []
  }
 ],
 "metadata": {
  "kernelspec": {
   "display_name": "Python 3.7.13 ('lbcd')",
   "language": "python",
   "name": "python3"
  },
  "language_info": {
   "codemirror_mode": {
    "name": "ipython",
    "version": 3
   },
   "file_extension": ".py",
   "mimetype": "text/x-python",
   "name": "python",
   "nbconvert_exporter": "python",
   "pygments_lexer": "ipython3",
   "version": "3.7.13"
  },
  "orig_nbformat": 4,
  "vscode": {
   "interpreter": {
    "hash": "7d2c7ce3569027cb8ee5b410ad284c0cb73fb171e1c7773d75124bb034b04d68"
   }
  }
 },
 "nbformat": 4,
 "nbformat_minor": 2
}
